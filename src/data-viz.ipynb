{
 "cells": [
  {
   "cell_type": "markdown",
   "metadata": {},
   "source": [
    "## Data Visualization\n",
    "First, we extract facial (3D) landmarks from a single participant, then we visualize those landmarks in 2 ways: \n",
    "* light weight (matplotlib 3D plot) \n",
    "* high fidelity (3D facial model using participant data and the FLAME model)"
   ]
  },
  {
   "cell_type": "code",
   "execution_count": 4,
   "metadata": {},
   "outputs": [],
   "source": [
    "# general imports\n",
    "import numpy as np\n",
    "import csv\n",
    "import matplotlib.pyplot as plt\n",
    "import os\n",
    "import sys\n",
    "sys.path.append(os.path.abspath('../data'))"
   ]
  },
  {
   "cell_type": "code",
   "execution_count": 5,
   "metadata": {},
   "outputs": [],
   "source": [
    "# Extract Facial Landmarks from CSV file\n",
    "def extract_landmarks(path) -> np.ndarray:\n",
    "    raw_data = [] # represens a single line of the file\n",
    "    landmarks = np.zeros((68, 3))\n",
    "\n",
    "    with open(path, 'r') as f:\n",
    "        # if we wanted to extract multiple frames of landmarks, instead of just reading in the second line, read in the whole file or as many frames as desired\n",
    "        next(f) # skips the first line\n",
    "        raw_data = next(f) # read landmarks from a SINGLE (initial) frame\n",
    "        if ('frame') in raw_data:\n",
    "            raise Exception(f\"Raw data contains file metadata; are you sure you skipped the header?\")\n",
    "        \n",
    "        raw_data = raw_data.split(', ')\n",
    "        raw_data = [float(x) for x in raw_data]\n",
    "        raw_data = raw_data[4:]\n",
    "\n",
    "        print(f'len: {len(raw_data)} / 3 = {len(raw_data)/3}')\n",
    "\n",
    "        if len(raw_data) / 3 != 68:\n",
    "            raise Exception(f\"Data formatting error: {num_landmarks} landmarks found; expected 68. Check data to see if it's malformatted\")\n",
    "\n",
    "        # process raw landmark CSV data into numpy array\n",
    "        for i in range(0, int(len(raw_data)/3)):\n",
    "            x = raw_data[i]\n",
    "            y = raw_data[68 + i]\n",
    "            z = raw_data[68 + 68 + i]\n",
    "            landmarks[i] = [x, y, z]\n",
    "    \n",
    "    return landmarks"
   ]
  },
  {
   "cell_type": "code",
   "execution_count": 7,
   "metadata": {},
   "outputs": [
    {
     "name": "stdout",
     "output_type": "stream",
     "text": [
      "running align-faces...\n"
     ]
    },
    {
     "ename": "FileNotFoundError",
     "evalue": "[Errno 2] No such file or directory: '../data/300_P/300_CLNF_features3D.txt'",
     "output_type": "error",
     "traceback": [
      "\u001b[0;31m---------------------------------------------------------------------------\u001b[0m",
      "\u001b[0;31mFileNotFoundError\u001b[0m                         Traceback (most recent call last)",
      "Cell \u001b[0;32mIn[7], line 21\u001b[0m\n\u001b[1;32m     19\u001b[0m \u001b[38;5;28;01mif\u001b[39;00m \u001b[38;5;18m__name__\u001b[39m \u001b[38;5;241m==\u001b[39m \u001b[38;5;124m\"\u001b[39m\u001b[38;5;124m__main__\u001b[39m\u001b[38;5;124m\"\u001b[39m:\n\u001b[1;32m     20\u001b[0m     \u001b[38;5;28mprint\u001b[39m(\u001b[38;5;124mf\u001b[39m\u001b[38;5;124m'\u001b[39m\u001b[38;5;124mrunning align-faces...\u001b[39m\u001b[38;5;124m'\u001b[39m)\n\u001b[0;32m---> 21\u001b[0m     landmarks_A \u001b[38;5;241m=\u001b[39m extract_landmarks(\u001b[38;5;124m\"\u001b[39m\u001b[38;5;124m../data/300_P/300_CLNF_features3D.txt\u001b[39m\u001b[38;5;124m\"\u001b[39m)\n\u001b[1;32m     22\u001b[0m     \u001b[38;5;66;03m# print(f'dims: {landmarks_A.shape} \\n{landmarks_A}')\u001b[39;00m\n\u001b[1;32m     23\u001b[0m     plot_3D(landmarks_A)\n",
      "Cell \u001b[0;32mIn[5], line 6\u001b[0m, in \u001b[0;36mextract_landmarks\u001b[0;34m(path)\u001b[0m\n\u001b[1;32m      3\u001b[0m raw_data \u001b[38;5;241m=\u001b[39m [] \u001b[38;5;66;03m# represens a single line of the file\u001b[39;00m\n\u001b[1;32m      4\u001b[0m landmarks \u001b[38;5;241m=\u001b[39m np\u001b[38;5;241m.\u001b[39mzeros((\u001b[38;5;241m68\u001b[39m, \u001b[38;5;241m3\u001b[39m))\n\u001b[0;32m----> 6\u001b[0m \u001b[38;5;28;01mwith\u001b[39;00m \u001b[38;5;28mopen\u001b[39m(path, \u001b[38;5;124m'\u001b[39m\u001b[38;5;124mr\u001b[39m\u001b[38;5;124m'\u001b[39m) \u001b[38;5;28;01mas\u001b[39;00m f:\n\u001b[1;32m      7\u001b[0m     \u001b[38;5;66;03m# if we wanted to extract multiple frames of landmarks, instead of just reading in the second line, read in the whole file or as many frames as desired\u001b[39;00m\n\u001b[1;32m      8\u001b[0m     \u001b[38;5;28mnext\u001b[39m(f) \u001b[38;5;66;03m# skips the first line\u001b[39;00m\n\u001b[1;32m      9\u001b[0m     raw_data \u001b[38;5;241m=\u001b[39m \u001b[38;5;28mnext\u001b[39m(f) \u001b[38;5;66;03m# read landmarks from a SINGLE (initial) frame\u001b[39;00m\n",
      "File \u001b[0;32m~/anaconda3/lib/python3.11/site-packages/IPython/core/interactiveshell.py:286\u001b[0m, in \u001b[0;36m_modified_open\u001b[0;34m(file, *args, **kwargs)\u001b[0m\n\u001b[1;32m    279\u001b[0m \u001b[38;5;28;01mif\u001b[39;00m file \u001b[38;5;129;01min\u001b[39;00m {\u001b[38;5;241m0\u001b[39m, \u001b[38;5;241m1\u001b[39m, \u001b[38;5;241m2\u001b[39m}:\n\u001b[1;32m    280\u001b[0m     \u001b[38;5;28;01mraise\u001b[39;00m \u001b[38;5;167;01mValueError\u001b[39;00m(\n\u001b[1;32m    281\u001b[0m         \u001b[38;5;124mf\u001b[39m\u001b[38;5;124m\"\u001b[39m\u001b[38;5;124mIPython won\u001b[39m\u001b[38;5;124m'\u001b[39m\u001b[38;5;124mt let you open fd=\u001b[39m\u001b[38;5;132;01m{\u001b[39;00mfile\u001b[38;5;132;01m}\u001b[39;00m\u001b[38;5;124m by default \u001b[39m\u001b[38;5;124m\"\u001b[39m\n\u001b[1;32m    282\u001b[0m         \u001b[38;5;124m\"\u001b[39m\u001b[38;5;124mas it is likely to crash IPython. If you know what you are doing, \u001b[39m\u001b[38;5;124m\"\u001b[39m\n\u001b[1;32m    283\u001b[0m         \u001b[38;5;124m\"\u001b[39m\u001b[38;5;124myou can use builtins\u001b[39m\u001b[38;5;124m'\u001b[39m\u001b[38;5;124m open.\u001b[39m\u001b[38;5;124m\"\u001b[39m\n\u001b[1;32m    284\u001b[0m     )\n\u001b[0;32m--> 286\u001b[0m \u001b[38;5;28;01mreturn\u001b[39;00m io_open(file, \u001b[38;5;241m*\u001b[39margs, \u001b[38;5;241m*\u001b[39m\u001b[38;5;241m*\u001b[39mkwargs)\n",
      "\u001b[0;31mFileNotFoundError\u001b[0m: [Errno 2] No such file or directory: '../data/300_P/300_CLNF_features3D.txt'"
     ]
    }
   ],
   "source": [
    "# lightweight implementation using MatplotLib 3D Scatterplot\n",
    "def plot_3D(landmarks: np.ndarray):\n",
    "    fig = plt.figure()\n",
    "    ax = fig.add_subplot(projection='3d')\n",
    "    ax.view_init(elev=-90, azim=-90, roll=0)\n",
    "\n",
    "    xs, ys, zs = landmarks[:,0], landmarks[:,1], landmarks[:,2]\n",
    "\n",
    "    ax.scatter(xs, ys, zs)\n",
    "    ax.set(xticklabels=[],\n",
    "       yticklabels=[],\n",
    "       zticklabels=[])\n",
    "    plt.title('3D facial landmarks')\n",
    "    plt.show()\n",
    "\n",
    "\n",
    "\n",
    "\n",
    "if __name__ == \"__main__\":\n",
    "    print(f'running align-faces...')\n",
    "    landmarks_A = extract_landmarks(\"../data/300_P/300_CLNF_features3D.txt\")\n",
    "    # print(f'dims: {landmarks_A.shape} \\n{landmarks_A}')\n",
    "    plot_3D(landmarks_A)"
   ]
  },
  {
   "cell_type": "code",
   "execution_count": null,
   "metadata": {},
   "outputs": [],
   "source": [
    "# High Fidelity Implementation using FLAME Model\n",
    "# this downsizes 68 facial landmarks to 51 (which the FLAME model requires)\n",
    "# then use the 51 facial landmarks as input to the flame model\n",
    "# TODO: fill this in"
   ]
  }
 ],
 "metadata": {
  "kernelspec": {
   "display_name": "DL-S24 (3.10)",
   "language": "python",
   "name": "csci1470"
  },
  "language_info": {
   "codemirror_mode": {
    "name": "ipython",
    "version": 3
   },
   "file_extension": ".py",
   "mimetype": "text/x-python",
   "name": "python",
   "nbconvert_exporter": "python",
   "pygments_lexer": "ipython3",
   "version": "3.11.5"
  }
 },
 "nbformat": 4,
 "nbformat_minor": 2
}
